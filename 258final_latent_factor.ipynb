{
 "cells": [
  {
   "cell_type": "code",
   "execution_count": 1,
   "metadata": {},
   "outputs": [],
   "source": [
    "import gzip\n",
    "from collections import defaultdict\n",
    "import math\n",
    "import scipy.optimize\n",
    "from sklearn import svm\n",
    "import numpy as np\n",
    "import string\n",
    "import random\n",
    "import string\n",
    "from sklearn import linear_model\n",
    "import heapq\n",
    "from sklearn.impute import SimpleImputer\n",
    "import pandas as pd\n",
    "import json"
   ]
  },
  {
   "cell_type": "code",
   "execution_count": 2,
   "metadata": {},
   "outputs": [],
   "source": [
    "def readGz(path):\n",
    "    for l in gzip.open(path, 'rt'):\n",
    "        yield json.loads(l)"
   ]
  },
  {
   "cell_type": "code",
   "execution_count": 3,
   "metadata": {},
   "outputs": [],
   "source": [
    "# Read data\n",
    "dataset = []\n",
    "for l in readGz(\"renttherunway_final_data.json.gz\"):\n",
    "    dataset.append(l)\n",
    "random.shuffle(dataset)\n",
    "\n",
    "allRatings = []\n",
    "for datum in dataset:\n",
    "    if datum['rating'] is None:\n",
    "        continue\n",
    "    allRatings.append((datum['user_id'], datum['item_id'], int(datum['rating'])))"
   ]
  },
  {
   "cell_type": "code",
   "execution_count": 4,
   "metadata": {},
   "outputs": [
    {
     "data": {
      "text/plain": [
       "192462"
      ]
     },
     "execution_count": 4,
     "metadata": {},
     "output_type": "execute_result"
    }
   ],
   "source": [
    "len(allRatings)"
   ]
  },
  {
   "cell_type": "code",
   "execution_count": 5,
   "metadata": {},
   "outputs": [],
   "source": [
    "# Split train, valid, test\n",
    "train_ratio = 0.6\n",
    "val_ratio = 0.2\n",
    "test_ratio = 0.2\n",
    "\n",
    "train_size = int(len(dataset) * train_ratio)\n",
    "val_size = int(len(dataset) * val_ratio)\n",
    "\n",
    "ratingsTrain = allRatings[:train_size]\n",
    "ratingsVal = allRatings[train_size:train_size + val_size]\n",
    "ratingsTest = allRatings[train_size + val_size:]"
   ]
  },
  {
   "cell_type": "code",
   "execution_count": 6,
   "metadata": {},
   "outputs": [],
   "source": [
    "def MSE(predictions, y):\n",
    "    diff = [(pred - true)**2 for (pred, true) in zip(predictions, y)]\n",
    "    return sum(diff) / len(diff)"
   ]
  },
  {
   "cell_type": "code",
   "execution_count": null,
   "metadata": {},
   "outputs": [],
   "source": [
    "usersPerItem = defaultdict(set) # Maps an item to the users who rated it\n",
    "itemsPerUser = defaultdict(set) # Maps a user to the items that they rated\n",
    "reviewsPerUser = defaultdict(list)\n",
    "reviewsPerItem = defaultdict(list)\n",
    "ratingDict = {} # To retrieve a rating for a specific user/item pair\n",
    "\n",
    "for d in ratingsTrain:\n",
    "    user,item = d[0], d[1]\n",
    "    usersPerItem[item].add(user)\n",
    "    itemsPerUser[user].add(item)\n",
    "    reviewsPerUser[user].append(d)\n",
    "    reviewsPerItem[item].append(d)\n",
    "    ratingDict[(user,item)] = d[2]"
   ]
  },
  {
   "cell_type": "code",
   "execution_count": 8,
   "metadata": {},
   "outputs": [],
   "source": [
    "userAverages = {}\n",
    "itemAverages = {}\n",
    "ratingMean = []\n",
    "\n",
    "for u in itemsPerUser:\n",
    "    rs = [ratingDict[(u,i)] for i in itemsPerUser[u]]\n",
    "    userAverages[u] = sum(rs) / len(rs)\n",
    "    \n",
    "for i in usersPerItem:\n",
    "    rs = [ratingDict[(u,i)] for u in usersPerItem[i]]\n",
    "    itemAverages[i] = sum(rs) / len(rs)\n",
    "    \n",
    "for d in ratingsTrain:\n",
    "    ratingMean.append(d[2])\n",
    "    \n",
    "ratingMean = sum(ratingMean) / len(ratingMean)"
   ]
  },
  {
   "cell_type": "code",
   "execution_count": 60,
   "metadata": {},
   "outputs": [],
   "source": [
    "# Method 1: Collaborative Filtering based on Jaccard similarity of Users"
   ]
  },
  {
   "cell_type": "code",
   "execution_count": 9,
   "metadata": {},
   "outputs": [],
   "source": [
    "jaccard_users = {}\n",
    "jaccard_books = {}"
   ]
  },
  {
   "cell_type": "code",
   "execution_count": 10,
   "metadata": {},
   "outputs": [],
   "source": [
    "def Jaccard(s1, s2):\n",
    "    numer = len(s1.intersection(s2))\n",
    "    denom = len(s1.union(s2))\n",
    "    if denom > 0:\n",
    "        return numer/denom\n",
    "    return 0"
   ]
  },
  {
   "cell_type": "code",
   "execution_count": 11,
   "metadata": {},
   "outputs": [],
   "source": [
    "def predictRating(user,item):\n",
    "    ratings = []\n",
    "    similarities = []\n",
    "    for d in reviewsPerUser[user]:\n",
    "        i2 = d[1]\n",
    "        if i2 == item: continue\n",
    "        ratings.append(d[2] - itemAverages[i2])\n",
    "        similarities.append(Jaccard(usersPerItem[item],usersPerItem[i2]))\n",
    "    if (sum(similarities) > 0):\n",
    "        weightedRatings = [(x*y) for x,y in zip(ratings,similarities)]\n",
    "        return itemAverages[item] + sum(weightedRatings) / sum(similarities)\n",
    "    else:\n",
    "        # User hasn't rated any similar items\n",
    "        return ratingMean"
   ]
  },
  {
   "cell_type": "code",
   "execution_count": 12,
   "metadata": {},
   "outputs": [
    {
     "data": {
      "text/plain": [
       "2.196463768043665"
      ]
     },
     "execution_count": 12,
     "metadata": {},
     "output_type": "execute_result"
    }
   ],
   "source": [
    "y = [d[2] for d in ratingsTest]\n",
    "predictions = []\n",
    "for u, i, r in ratingsTest:\n",
    "    predictions.append(predictRating(u, i))\n",
    "MSE(y, predictions)"
   ]
  },
  {
   "cell_type": "code",
   "execution_count": 13,
   "metadata": {},
   "outputs": [],
   "source": [
    "userSet = set()\n",
    "bookSet = set()\n",
    "readSet = set()\n",
    "\n",
    "for u,b,r in allRatings:\n",
    "    userSet.add(u)\n",
    "    bookSet.add(b)\n",
    "    readSet.add((u,b))\n",
    "\n",
    "lUserSet = list(userSet)\n",
    "lBookSet = list(bookSet)"
   ]
  },
  {
   "cell_type": "code",
   "execution_count": null,
   "metadata": {},
   "outputs": [],
   "source": [
    "# Latent Factor"
   ]
  },
  {
   "cell_type": "code",
   "execution_count": 14,
   "metadata": {},
   "outputs": [],
   "source": [
    "trainRatings = [r[2] for r in ratingsTrain]\n",
    "globalAverage = sum(trainRatings) * 1.0 / len(trainRatings)"
   ]
  },
  {
   "cell_type": "code",
   "execution_count": 29,
   "metadata": {},
   "outputs": [],
   "source": [
    "ratingsPerUser = defaultdict(list)\n",
    "ratingsPerItem = defaultdict(list)\n",
    "for u, b, r in ratingsTrain:\n",
    "    ratingsPerUser[u].append((b, r))\n",
    "    ratingsPerItem[b].append((u, r))\n",
    "\n",
    "def iterate(lamb, betaU, betaI):\n",
    "    newAlpha = 0\n",
    "    for u, b, r in ratingsTrain:\n",
    "        newAlpha += r - (betaU[u] + betaI[b])\n",
    "    alpha = newAlpha / len(ratingsTrain)\n",
    "\n",
    "    for u in ratingsPerUser:\n",
    "        newBetaU = 0\n",
    "        for b, r in ratingsPerUser[u]:\n",
    "            newBetaU += r - (alpha + betaI[b])\n",
    "        betaU[u] = newBetaU / (lamb + len(ratingsPerUser[u]))\n",
    "    \n",
    "    for b in ratingsPerItem:\n",
    "        newBetaI = 0\n",
    "        for u, r in ratingsPerItem[b]:\n",
    "            newBetaI += r - (alpha + betaU[u])\n",
    "        betaI[b] = newBetaI / (lamb + len(ratingsPerItem[b]))\n",
    "\n",
    "    mse = 0\n",
    "    for u, b, r in ratingsTrain:\n",
    "        prediction = alpha + betaU[u] + betaI[b]\n",
    "        mse += (r - prediction) ** 2\n",
    "\n",
    "    regularizer = 0\n",
    "    for u in betaU:\n",
    "        regularizer += betaU[u] ** 2\n",
    "    for b in betaI:\n",
    "        regularizer += betaI[b] ** 2\n",
    "\n",
    "    mse /= len(ratingsTrain)\n",
    "\n",
    "    val_mse = 0\n",
    "    for u, b, r in ratingsVal:\n",
    "        val_mse += (alpha + betaU[u] + betaI[b] - r) ** 2\n",
    "    val_mse /= len(ratingsVal)\n",
    "\n",
    "    return mse, mse + lamb * regularizer, alpha, val_mse, betaU, betaI"
   ]
  },
  {
   "cell_type": "code",
   "execution_count": 48,
   "metadata": {},
   "outputs": [],
   "source": [
    "# Collecting data for plotting\n",
    "lamb_values = []\n",
    "train_mses = []\n",
    "valid_mses = []\n",
    "test_mses = []"
   ]
  },
  {
   "cell_type": "code",
   "execution_count": 49,
   "metadata": {},
   "outputs": [
    {
     "name": "stdout",
     "output_type": "stream",
     "text": [
      "lambda: 8.1, train mse: 1.4989588692080027, valid mse: 1.9228458589762065, test mse: 1.9218752570995379 | best lambda: 8.1, best valid mse: 1.9228458589762065, best train mse: 1.4989588692080027, best test mse: 1.9218752570995379\n",
      "lambda: 8.11, train mse: 1.4993012478669894, valid mse: 1.9228450891740112, test mse: 1.9218637407647112 | best lambda: 8.11, best valid mse: 1.9228450891740112, best train mse: 1.4993012478669894, best test mse: 1.9218637407647112\n",
      "lambda: 8.12, train mse: 1.4996430540168617, valid mse: 1.9228443755734481, test mse: 1.9218522995231426 | best lambda: 8.12, best valid mse: 1.9228443755734481, best train mse: 1.4996430540168617, best test mse: 1.9218522995231426\n",
      "lambda: 8.129999999999999, train mse: 1.4999842892123108, valid mse: 1.9228437179126356, test mse: 1.9218409330600257 | best lambda: 8.129999999999999, best valid mse: 1.9228437179126356, best train mse: 1.4999842892123108, best test mse: 1.9218409330600257\n",
      "lambda: 8.139999999999999, train mse: 1.5003249550014475, valid mse: 1.9228431159310768, test mse: 1.9218296410620934 | best lambda: 8.139999999999999, best valid mse: 1.9228431159310768, best train mse: 1.5003249550014475, best test mse: 1.9218296410620934\n",
      "lambda: 8.149999999999999, train mse: 1.5006650529275938, valid mse: 1.9228425693696949, test mse: 1.9218184232177338 | best lambda: 8.149999999999999, best valid mse: 1.9228425693696949, best train mse: 1.5006650529275938, best test mse: 1.9218184232177338\n",
      "lambda: 8.159999999999998, train mse: 1.5010045845275397, valid mse: 1.9228420779707331, test mse: 1.9218072792168996 | best lambda: 8.159999999999998, best valid mse: 1.9228420779707331, best train mse: 1.5010045845275397, best test mse: 1.9218072792168996\n",
      "lambda: 8.169999999999998, train mse: 1.5013435513328126, valid mse: 1.9228416414777063, test mse: 1.9217962087509577 | best lambda: 8.169999999999998, best valid mse: 1.9228416414777063, best train mse: 1.5013435513328126, best test mse: 1.9217962087509577\n",
      "lambda: 8.179999999999998, train mse: 1.5016819548688287, valid mse: 1.9228412596356133, test mse: 1.9217852115129532 | best lambda: 8.179999999999998, best valid mse: 1.9228412596356133, best train mse: 1.5016819548688287, best test mse: 1.9217852115129532\n",
      "lambda: 8.189999999999998, train mse: 1.5020197966559137, valid mse: 1.9228409321907605, test mse: 1.9217742871975536 | best lambda: 8.189999999999998, best valid mse: 1.9228409321907605, best train mse: 1.5020197966559137, best test mse: 1.9217742871975536\n",
      "lambda: 8.199999999999998, train mse: 1.502357078208307, valid mse: 1.9228406588906968, test mse: 1.921763435500624 | best lambda: 8.199999999999998, best valid mse: 1.9228406588906968, best train mse: 1.502357078208307, best test mse: 1.921763435500624\n",
      "lambda: 8.209999999999997, train mse: 1.50269380103487, valid mse: 1.922840439484342, test mse: 1.9217526561198837 | best lambda: 8.209999999999997, best valid mse: 1.922840439484342, best train mse: 1.50269380103487, best test mse: 1.9217526561198837\n",
      "lambda: 8.219999999999997, train mse: 1.503029966638658, valid mse: 1.9228402737219266, test mse: 1.9217419487543999 | best lambda: 8.219999999999997, best valid mse: 1.9228402737219266, best train mse: 1.503029966638658, best test mse: 1.9217419487543999\n",
      "lambda: 8.229999999999997, train mse: 1.503365576517549, valid mse: 1.9228401613550443, test mse: 1.921731313104793 | best lambda: 8.229999999999997, best valid mse: 1.9228401613550443, best train mse: 1.503365576517549, best test mse: 1.921731313104793\n",
      "lambda: 8.239999999999997, train mse: 1.5037006321634738, valid mse: 1.9228401021364754, test mse: 1.921720748873069 | best lambda: 8.239999999999997, best valid mse: 1.9228401021364754, best train mse: 1.5037006321634738, best test mse: 1.921720748873069\n",
      "lambda: 8.249999999999996, train mse: 1.5040351350630519, valid mse: 1.9228400958203011, test mse: 1.9217102557627959 | best lambda: 8.249999999999996, best valid mse: 1.9228400958203011, best train mse: 1.5040351350630519, best test mse: 1.9217102557627959\n",
      "lambda: 8.259999999999996, train mse: 1.5043690866976491, valid mse: 1.9228401421620238, test mse: 1.9216998334791149 | best lambda: 8.249999999999996, best valid mse: 1.9228400958203011, best train mse: 1.5040351350630519, best test mse: 1.9217102557627959\n",
      "lambda: 8.269999999999996, train mse: 1.5047024885427558, valid mse: 1.9228402409182455, test mse: 1.9216894817284225 | best lambda: 8.249999999999996, best valid mse: 1.9228400958203011, best train mse: 1.5040351350630519, best test mse: 1.9217102557627959\n",
      "lambda: 8.279999999999996, train mse: 1.5050353420685856, valid mse: 1.9228403918469208, test mse: 1.921679200218732 | best lambda: 8.249999999999996, best valid mse: 1.9228400958203011, best train mse: 1.5040351350630519, best test mse: 1.9217102557627959\n",
      "lambda: 8.289999999999996, train mse: 1.5053676487400907, valid mse: 1.9228405947072515, test mse: 1.921668988659398 | best lambda: 8.249999999999996, best valid mse: 1.9228400958203011, best train mse: 1.5040351350630519, best test mse: 1.9217102557627959\n",
      "lambda: 8.299999999999995, train mse: 1.505699410016879, valid mse: 1.9228408492596192, test mse: 1.9216588467612348 | best lambda: 8.249999999999996, best valid mse: 1.9228400958203011, best train mse: 1.5040351350630519, best test mse: 1.9217102557627959\n",
      "\n",
      "Best Results:\n",
      "Best lambda: 8.249999999999996\n",
      "Best train mse: 1.5040351350630519\n",
      "Best valid mse: 1.9228400958203011\n"
     ]
    }
   ],
   "source": [
    "import matplotlib.pyplot as plt\n",
    "\n",
    "best_lambda = None\n",
    "best_train_mse = float('inf')\n",
    "best_valid_mse = float('inf')\n",
    "best_test_mse = float('inf')\n",
    "\n",
    "for lamb in np.arange(8.1, 8.3, 0.01):\n",
    "    betaU, betaI = defaultdict(float), defaultdict(float)\n",
    "    # mse,objective, _, _ = iterate(lamb)\n",
    "    # newMSE,newObjective, _, _ = iterate(lamb)\n",
    "    # iterations = 2\n",
    "    mse, objective = 0, 0\n",
    "    newMSE, newObjective = 0, 0\n",
    "    valid_mse = 0\n",
    "    iterations = 0\n",
    "\n",
    "    while iterations < 10 or objective - newObjective > 0.001:\n",
    "        mse, objective = newMSE, newObjective\n",
    "        newMSE, newObjective, alpha, valid_mse, betaU, betaI = iterate(lamb, betaU, betaI)\n",
    "        iterations += 1\n",
    "        # print(\"Objective after \"\n",
    "        #       + str(iterations) + \" iterations = \" + str(newObjective))\n",
    "        # print(\"MSE after \"\n",
    "        #       + str(iterations) + \" iterations = \" + str(newMSE))\n",
    "        # print(\"Valid MSE after \"\n",
    "        #       + str(iterations) + \" iterations = \" + str(valid_mse))\n",
    "\n",
    "    # valid_mse = 0\n",
    "    # for u, b, r in ratingsVal:\n",
    "    #     valid_mse += (alpha + betaU[u] + betaI[b] - r)**2\n",
    "    # valid_mse = valid_mse / len(ratingsVal)\n",
    "\n",
    "    test_mse = 0\n",
    "    for u, b, r in ratingsTest:\n",
    "        test_mse += (alpha + betaU[u] + betaI[b] - r)**2\n",
    "    test_mse = test_mse / len(ratingsTest)\n",
    "    \n",
    "    if valid_mse < best_valid_mse:\n",
    "        best_lambda = lamb\n",
    "        best_train_mse = newMSE\n",
    "        best_valid_mse = valid_mse\n",
    "        best_test_mse = test_mse\n",
    "    \n",
    "    lamb_values.append(lamb)\n",
    "    train_mses.append(newMSE)\n",
    "    valid_mses.append(valid_mse)\n",
    "    test_mses.append(test_mse)\n",
    "\n",
    "    print(f\"lambda: {lamb}, train mse: {newMSE}, valid mse: {valid_mse}, test mse: {test_mse} | best lambda: {best_lambda}, best valid mse: {best_valid_mse}, best train mse: {best_train_mse}, best test mse: {best_test_mse}\")\n",
    "\n",
    "print(\"\\nBest Results:\")\n",
    "print(f\"Best lambda: {best_lambda}\")\n",
    "print(f\"Best train mse: {best_train_mse}\")\n",
    "print(f\"Best valid mse: {best_valid_mse}\")"
   ]
  },
  {
   "cell_type": "code",
   "execution_count": 50,
   "metadata": {},
   "outputs": [
    {
     "data": {
      "image/png": "[encoded data removed]",
      "text/plain": [
       "<Figure size 800x400 with 1 Axes>"
      ]
     },
     "metadata": {},
     "output_type": "display_data"
    }
   ],
   "source": [
    "# Plotting results\n",
    "plt.figure(figsize=(8, 4))  # Aspect ratio 3:1\n",
    "plt.plot(lamb_values, train_mses, label='Train MSE', marker='o', linestyle='-')\n",
    "plt.plot(lamb_values, valid_mses, label='Valid MSE', marker='s', linestyle='-')\n",
    "plt.plot(lamb_values, test_mses, label='Test MSE', marker='^', linestyle='-')\n",
    "\n",
    "# Highlighting the best lambda\n",
    "plt.scatter([best_lambda], [best_train_mse], color='red', label='Best Train MSE', zorder=5)\n",
    "plt.scatter([best_lambda], [best_valid_mse], color='orange', label='Best Valid MSE', zorder=5)\n",
    "plt.scatter([best_lambda], [best_test_mse], color='green', label='Best Test MSE', zorder=5)\n",
    "\n",
    "# Adding labels and legend\n",
    "plt.xlabel('Lambda')\n",
    "plt.ylabel('MSE')\n",
    "plt.title('MSE vs Lambda')\n",
    "plt.legend()\n",
    "plt.grid(True)\n",
    "plt.tight_layout()\n",
    "plt.show()"
   ]
  },
  {
   "cell_type": "code",
   "execution_count": null,
   "metadata": {},
   "outputs": [],
   "source": [
    "lamb = 8.249999999999996\n",
    "alpha = globalAverage\n",
    "betaU, betaI = defaultdict(int), defaultdict(int)\n",
    "mse,objective, _ = iterate(lamb)\n",
    "newMSE,newObjective, _ = iterate(lamb)\n",
    "iterations = 2\n",
    "while iterations < 10 or objective - newObjective > 0.00001:\n",
    "    mse, objective = newMSE, newObjective\n",
    "    newMSE, newObjective, alpha = iterate(lamb)\n",
    "    iterations += 1\n",
    "    print(\"Objective after \"\n",
    "        + str(iterations) + \" iterations = \" + str(newObjective))\n",
    "    print(\"MSE after \"\n",
    "        + str(iterations) + \" iterations = \" + str(newMSE))\n",
    "    valid_mse = 0\n",
    "    for u, b, r in ratingsVal:\n",
    "        valid_mse += (alpha + betaU[u] + betaI[b] - r)**2\n",
    "    valid_mse = valid_mse / len(ratingsVal)\n",
    "    print(\"Valid mSE after \"\n",
    "        + str(iterations) + \" iterations = \" + str(valid_mse))"
   ]
  },
  {
   "cell_type": "code",
   "execution_count": null,
   "metadata": {},
   "outputs": [],
   "source": [
    "# SVD"
   ]
  },
  {
   "cell_type": "code",
   "execution_count": 55,
   "metadata": {},
   "outputs": [
    {
     "name": "stderr",
     "output_type": "stream",
     "text": [
      "\n",
      "A module that was compiled using NumPy 1.x cannot be run in\n",
      "NumPy 2.1.3 as it may crash. To support both 1.x and 2.x\n",
      "versions of NumPy, modules must be compiled with NumPy 2.0.\n",
      "Some module may need to rebuild instead e.g. with 'pybind11>=2.12'.\n",
      "\n",
      "If you are a user of the module, the easiest solution will be to\n",
      "downgrade to 'numpy<2' or try to upgrade the affected module.\n",
      "We expect that some modules will need time to support NumPy 2.\n",
      "\n",
      "Traceback (most recent call last):  File \"/opt/homebrew/Cellar/python@3.10/3.10.15/Frameworks/Python.framework/Versions/3.10/lib/python3.10/runpy.py\", line 196, in _run_module_as_main\n",
      "    return _run_code(code, main_globals, None,\n",
      "  File \"/opt/homebrew/Cellar/python@3.10/3.10.15/Frameworks/Python.framework/Versions/3.10/lib/python3.10/runpy.py\", line 86, in _run_code\n",
      "    exec(code, run_globals)\n",
      "  File \"/Users/yudingyi/Documents/Projects/258Final/.venv/lib/python3.10/site-packages/ipykernel_launcher.py\", line 18, in <module>\n",
      "    app.launch_new_instance()\n",
      "  File \"/Users/yudingyi/Documents/Projects/258Final/.venv/lib/python3.10/site-packages/traitlets/config/application.py\", line 1075, in launch_instance\n",
      "    app.start()\n",
      "  File \"/Users/yudingyi/Documents/Projects/258Final/.venv/lib/python3.10/site-packages/ipykernel/kernelapp.py\", line 739, in start\n",
      "    self.io_loop.start()\n",
      "  File \"/Users/yudingyi/Documents/Projects/258Final/.venv/lib/python3.10/site-packages/tornado/platform/asyncio.py\", line 205, in start\n",
      "    self.asyncio_loop.run_forever()\n",
      "  File \"/opt/homebrew/Cellar/python@3.10/3.10.15/Frameworks/Python.framework/Versions/3.10/lib/python3.10/asyncio/base_events.py\", line 603, in run_forever\n",
      "    self._run_once()\n",
      "  File \"/opt/homebrew/Cellar/python@3.10/3.10.15/Frameworks/Python.framework/Versions/3.10/lib/python3.10/asyncio/base_events.py\", line 1909, in _run_once\n",
      "    handle._run()\n",
      "  File \"/opt/homebrew/Cellar/python@3.10/3.10.15/Frameworks/Python.framework/Versions/3.10/lib/python3.10/asyncio/events.py\", line 80, in _run\n",
      "    self._context.run(self._callback, *self._args)\n",
      "  File \"/Users/yudingyi/Documents/Projects/258Final/.venv/lib/python3.10/site-packages/ipykernel/kernelbase.py\", line 545, in dispatch_queue\n",
      "    await self.process_one()\n",
      "  File \"/Users/yudingyi/Documents/Projects/258Final/.venv/lib/python3.10/site-packages/ipykernel/kernelbase.py\", line 534, in process_one\n",
      "    await dispatch(*args)\n",
      "  File \"/Users/yudingyi/Documents/Projects/258Final/.venv/lib/python3.10/site-packages/ipykernel/kernelbase.py\", line 437, in dispatch_shell\n",
      "    await result\n",
      "  File \"/Users/yudingyi/Documents/Projects/258Final/.venv/lib/python3.10/site-packages/ipykernel/ipkernel.py\", line 362, in execute_request\n",
      "    await super().execute_request(stream, ident, parent)\n",
      "  File \"/Users/yudingyi/Documents/Projects/258Final/.venv/lib/python3.10/site-packages/ipykernel/kernelbase.py\", line 778, in execute_request\n",
      "    reply_content = await reply_content\n",
      "  File \"/Users/yudingyi/Documents/Projects/258Final/.venv/lib/python3.10/site-packages/ipykernel/ipkernel.py\", line 449, in do_execute\n",
      "    res = shell.run_cell(\n",
      "  File \"/Users/yudingyi/Documents/Projects/258Final/.venv/lib/python3.10/site-packages/ipykernel/zmqshell.py\", line 549, in run_cell\n",
      "    return super().run_cell(*args, **kwargs)\n",
      "  File \"/Users/yudingyi/Documents/Projects/258Final/.venv/lib/python3.10/site-packages/IPython/core/interactiveshell.py\", line 3075, in run_cell\n",
      "    result = self._run_cell(\n",
      "  File \"/Users/yudingyi/Documents/Projects/258Final/.venv/lib/python3.10/site-packages/IPython/core/interactiveshell.py\", line 3130, in _run_cell\n",
      "    result = runner(coro)\n",
      "  File \"/Users/yudingyi/Documents/Projects/258Final/.venv/lib/python3.10/site-packages/IPython/core/async_helpers.py\", line 128, in _pseudo_sync_runner\n",
      "    coro.send(None)\n",
      "  File \"/Users/yudingyi/Documents/Projects/258Final/.venv/lib/python3.10/site-packages/IPython/core/interactiveshell.py\", line 3334, in run_cell_async\n",
      "    has_raised = await self.run_ast_nodes(code_ast.body, cell_name,\n",
      "  File \"/Users/yudingyi/Documents/Projects/258Final/.venv/lib/python3.10/site-packages/IPython/core/interactiveshell.py\", line 3517, in run_ast_nodes\n",
      "    if await self.run_code(code, result, async_=asy):\n",
      "  File \"/Users/yudingyi/Documents/Projects/258Final/.venv/lib/python3.10/site-packages/IPython/core/interactiveshell.py\", line 3577, in run_code\n",
      "    exec(code_obj, self.user_global_ns, self.user_ns)\n",
      "  File \"/var/folders/zk/vr1t0gsn6wg47twcjfyslc7m0000gn/T/ipykernel_36474/378915650.py\", line 1, in <module>\n",
      "    from surprise import SVD\n",
      "  File \"/Users/yudingyi/Documents/Projects/258Final/.venv/lib/python3.10/site-packages/surprise/__init__.py\", line 6, in <module>\n",
      "    from .prediction_algorithms import (\n",
      "  File \"/Users/yudingyi/Documents/Projects/258Final/.venv/lib/python3.10/site-packages/surprise/prediction_algorithms/__init__.py\", line 23, in <module>\n",
      "    from .algo_base import AlgoBase\n",
      "  File \"/Users/yudingyi/Documents/Projects/258Final/.venv/lib/python3.10/site-packages/surprise/prediction_algorithms/algo_base.py\", line 8, in <module>\n",
      "    from .. import similarities as sims\n"
     ]
    },
    {
     "ename": "ImportError",
     "evalue": "numpy.core.multiarray failed to import (auto-generated because you didn't call 'numpy.import_array()' after cimporting numpy; use '<void>numpy._import_array' to disable if you are certain you don't need it).",
     "output_type": "error",
     "traceback": [
      "\u001b[0;31m---------------------------------------------------------------------------\u001b[0m",
      "\u001b[0;31mImportError\u001b[0m                               Traceback (most recent call last)",
      "Cell \u001b[0;32mIn[55], line 1\u001b[0m\n\u001b[0;32m----> 1\u001b[0m \u001b[38;5;28;01mfrom\u001b[39;00m \u001b[38;5;21;01msurprise\u001b[39;00m \u001b[38;5;28;01mimport\u001b[39;00m SVD\n\u001b[1;32m      2\u001b[0m \u001b[38;5;28;01mfrom\u001b[39;00m \u001b[38;5;21;01msurprise\u001b[39;00m \u001b[38;5;28;01mimport\u001b[39;00m Dataset, Reader\n\u001b[1;32m      3\u001b[0m \u001b[38;5;28;01mfrom\u001b[39;00m \u001b[38;5;21;01msurprise\u001b[39;00m\u001b[38;5;21;01m.\u001b[39;00m\u001b[38;5;21;01mmodel_selection\u001b[39;00m \u001b[38;5;28;01mimport\u001b[39;00m train_test_split\n",
      "File \u001b[0;32m~/Documents/Projects/258Final/.venv/lib/python3.10/site-packages/surprise/__init__.py:6\u001b[0m\n\u001b[1;32m      2\u001b[0m \u001b[38;5;28;01mfrom\u001b[39;00m \u001b[38;5;21;01m.\u001b[39;00m\u001b[38;5;21;01mbuiltin_datasets\u001b[39;00m \u001b[38;5;28;01mimport\u001b[39;00m get_dataset_dir\n\u001b[1;32m      4\u001b[0m \u001b[38;5;28;01mfrom\u001b[39;00m \u001b[38;5;21;01m.\u001b[39;00m\u001b[38;5;21;01mdataset\u001b[39;00m \u001b[38;5;28;01mimport\u001b[39;00m Dataset\n\u001b[0;32m----> 6\u001b[0m \u001b[38;5;28;01mfrom\u001b[39;00m \u001b[38;5;21;01m.\u001b[39;00m\u001b[38;5;21;01mprediction_algorithms\u001b[39;00m \u001b[38;5;28;01mimport\u001b[39;00m (\n\u001b[1;32m      7\u001b[0m     AlgoBase,\n\u001b[1;32m      8\u001b[0m     BaselineOnly,\n\u001b[1;32m      9\u001b[0m     CoClustering,\n\u001b[1;32m     10\u001b[0m     KNNBaseline,\n\u001b[1;32m     11\u001b[0m     KNNBasic,\n\u001b[1;32m     12\u001b[0m     KNNWithMeans,\n\u001b[1;32m     13\u001b[0m     KNNWithZScore,\n\u001b[1;32m     14\u001b[0m     NMF,\n\u001b[1;32m     15\u001b[0m     NormalPredictor,\n\u001b[1;32m     16\u001b[0m     Prediction,\n\u001b[1;32m     17\u001b[0m     PredictionImpossible,\n\u001b[1;32m     18\u001b[0m     SlopeOne,\n\u001b[1;32m     19\u001b[0m     SVD,\n\u001b[1;32m     20\u001b[0m     SVDpp,\n\u001b[1;32m     21\u001b[0m )\n\u001b[1;32m     22\u001b[0m \u001b[38;5;28;01mfrom\u001b[39;00m \u001b[38;5;21;01m.\u001b[39;00m\u001b[38;5;21;01mreader\u001b[39;00m \u001b[38;5;28;01mimport\u001b[39;00m Reader\n\u001b[1;32m     23\u001b[0m \u001b[38;5;28;01mfrom\u001b[39;00m \u001b[38;5;21;01m.\u001b[39;00m\u001b[38;5;21;01mtrainset\u001b[39;00m \u001b[38;5;28;01mimport\u001b[39;00m Trainset\n",
      "File \u001b[0;32m~/Documents/Projects/258Final/.venv/lib/python3.10/site-packages/surprise/prediction_algorithms/__init__.py:23\u001b[0m\n\u001b[1;32m      1\u001b[0m \u001b[38;5;124;03m\"\"\"\u001b[39;00m\n\u001b[1;32m      2\u001b[0m \u001b[38;5;124;03mThe :mod:`prediction_algorithms` package includes the prediction algorithms\u001b[39;00m\n\u001b[1;32m      3\u001b[0m \u001b[38;5;124;03mavailable for recommendation.\u001b[39;00m\n\u001b[0;32m   (...)\u001b[0m\n\u001b[1;32m     20\u001b[0m \u001b[38;5;124;03m    co_clustering.CoClustering\u001b[39;00m\n\u001b[1;32m     21\u001b[0m \u001b[38;5;124;03m\"\"\"\u001b[39;00m\n\u001b[0;32m---> 23\u001b[0m \u001b[38;5;28;01mfrom\u001b[39;00m \u001b[38;5;21;01m.\u001b[39;00m\u001b[38;5;21;01malgo_base\u001b[39;00m \u001b[38;5;28;01mimport\u001b[39;00m AlgoBase\n\u001b[1;32m     24\u001b[0m \u001b[38;5;28;01mfrom\u001b[39;00m \u001b[38;5;21;01m.\u001b[39;00m\u001b[38;5;21;01mbaseline_only\u001b[39;00m \u001b[38;5;28;01mimport\u001b[39;00m BaselineOnly\n\u001b[1;32m     25\u001b[0m \u001b[38;5;28;01mfrom\u001b[39;00m \u001b[38;5;21;01m.\u001b[39;00m\u001b[38;5;21;01mco_clustering\u001b[39;00m \u001b[38;5;28;01mimport\u001b[39;00m CoClustering\n",
      "File \u001b[0;32m~/Documents/Projects/258Final/.venv/lib/python3.10/site-packages/surprise/prediction_algorithms/algo_base.py:8\u001b[0m\n\u001b[1;32m      1\u001b[0m \u001b[38;5;124;03m\"\"\"\u001b[39;00m\n\u001b[1;32m      2\u001b[0m \u001b[38;5;124;03mThe :mod:`surprise.prediction_algorithms.algo_base` module defines the base\u001b[39;00m\n\u001b[1;32m      3\u001b[0m \u001b[38;5;124;03mclass :class:`AlgoBase` from which every single prediction algorithm has to\u001b[39;00m\n\u001b[1;32m      4\u001b[0m \u001b[38;5;124;03minherit.\u001b[39;00m\n\u001b[1;32m      5\u001b[0m \u001b[38;5;124;03m\"\"\"\u001b[39;00m\n\u001b[1;32m      6\u001b[0m \u001b[38;5;28;01mimport\u001b[39;00m \u001b[38;5;21;01mheapq\u001b[39;00m\n\u001b[0;32m----> 8\u001b[0m \u001b[38;5;28;01mfrom\u001b[39;00m \u001b[38;5;21;01m.\u001b[39;00m\u001b[38;5;21;01m.\u001b[39;00m \u001b[38;5;28;01mimport\u001b[39;00m similarities \u001b[38;5;28;01mas\u001b[39;00m sims\n\u001b[1;32m      9\u001b[0m \u001b[38;5;28;01mfrom\u001b[39;00m \u001b[38;5;21;01m.\u001b[39;00m\u001b[38;5;21;01moptimize_baselines\u001b[39;00m \u001b[38;5;28;01mimport\u001b[39;00m baseline_als, baseline_sgd\n\u001b[1;32m     10\u001b[0m \u001b[38;5;28;01mfrom\u001b[39;00m \u001b[38;5;21;01m.\u001b[39;00m\u001b[38;5;21;01mpredictions\u001b[39;00m \u001b[38;5;28;01mimport\u001b[39;00m Prediction, PredictionImpossible\n",
      "File \u001b[0;32m~/Documents/Projects/258Final/.venv/lib/python3.10/site-packages/surprise/similarities.pyx:1\u001b[0m, in \u001b[0;36minit surprise.similarities\u001b[0;34m()\u001b[0m\n",
      "\u001b[0;31mImportError\u001b[0m: numpy.core.multiarray failed to import (auto-generated because you didn't call 'numpy.import_array()' after cimporting numpy; use '<void>numpy._import_array' to disable if you are certain you don't need it)."
     ]
    }
   ],
   "source": [
    "from surprise import SVD\n",
    "from surprise import Dataset, Reader\n",
    "from surprise.model_selection import train_test_split\n",
    "from surprise.accuracy import mse"
   ]
  },
  {
   "cell_type": "code",
   "execution_count": null,
   "metadata": {},
   "outputs": [],
   "source": [
    "reader = Reader(line_format='user item rating', sep=',', rating_scale=(1, 5))\n",
    "data = Dataset.load_from_df(pd.DataFrame(allRatings, columns=['user', 'item', 'rating']), reader)"
   ]
  },
  {
   "cell_type": "code",
   "execution_count": null,
   "metadata": {},
   "outputs": [],
   "source": [
    "trainset, testset = train_test_split(data, test_size=0.05)\n",
    "trainset_as_test = trainset.build_testset()\n",
    "train_predictions = model.test(trainset_as_test)"
   ]
  },
  {
   "cell_type": "code",
   "execution_count": null,
   "metadata": {},
   "outputs": [],
   "source": [
    "for n_factors in range(1, 5):\n",
    "    for reg_all in range(1, 5):\n",
    "        model = SVD(n_factors=n_factors, reg_all=reg_all/100)\n",
    "        model.fit(trainset)\n",
    "        train_predictions = model.test(trainset_as_test)\n",
    "        train_error = mse(train_predictions)\n",
    "        test_predictions = model.test(testset)\n",
    "        test_error = mse(test_predictions)\n",
    "        print(f\"n factor: {n_factors}, reg: {reg_all}, train mse: {train_error}, test mse: {test_error}\")"
   ]
  },
  {
   "cell_type": "code",
   "execution_count": null,
   "metadata": {},
   "outputs": [],
   "source": [
    "model = SVD(n_factors=1, reg_all=0.03)\n",
    "model.fit(trainset)"
   ]
  },
  {
   "cell_type": "code",
   "execution_count": null,
   "metadata": {},
   "outputs": [],
   "source": [
    "res = model.predict('u11538900', 'b07888199')\n",
    "res.est"
   ]
  },
  {
   "cell_type": "code",
   "execution_count": null,
   "metadata": {},
   "outputs": [],
   "source": [
    "predictions = open(\"predictions_Rating.csv\", 'w')\n",
    "for l in open(\"pairs_Rating.csv\"):\n",
    "    if l.startswith(\"userID\"):\n",
    "        #header\n",
    "        predictions.write(l)\n",
    "        continue\n",
    "    u,b = l.strip().split(',')\n",
    "    # res = alpha + betaU[u] + betaI[b]\n",
    "    res = model.predict(u, b).est\n",
    "    predictions.write(u + ',' + b + ',' + str(res) + '\\n')\n",
    "\n",
    "predictions.close()"
   ]
  }
 ],
 "metadata": {
  "kernelspec": {
   "display_name": ".venv",
   "language": "python",
   "name": "python3"
  },
  "language_info": {
   "codemirror_mode": {
    "name": "ipython",
    "version": 3
   },
   "file_extension": ".py",
   "mimetype": "text/x-python",
   "name": "python",
   "nbconvert_exporter": "python",
   "pygments_lexer": "ipython3",
   "version": "3.10.15"
  }
 },
 "nbformat": 4,
 "nbformat_minor": 2
}
